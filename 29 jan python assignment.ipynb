{
 "cells": [
  {
   "cell_type": "code",
   "execution_count": 1,
   "id": "5a91f11b",
   "metadata": {},
   "outputs": [],
   "source": [
    "# 1. Who developed Python Programming Language? \n",
    "# 2. Which type of Programming does Python support? \n",
    "# 3. Is Python case sensitive when dealing with identifiers? \n",
    "# 4. What is the correct extension of the Python file? \n",
    "# 5. Is Python code compiled or interpreted? \n",
    "# 6. Name a few blocks of code used to define in Python language? \n",
    "# 7. State a character used to give single-line comments in Python?\n",
    "# 8. Mention functions which can help us to find the version of python that we are currently working on? \n",
    "# 9. Python supports the creation of anonymous functions at runtime, using a construct called \n",
    "# 10. What does pip stand for python? \n",
    "# 11. Mention a few built-in functions in python? \n",
    "# 12. What is the maximum possible length of an identifier in Python? \n",
    "# 13. What are the benefits of using Python? \n",
    "# 14. How is memory managed in Python? \n",
    "# 15. How to install Python on Windows and set path variables? 16. Is indentation required in python? \n"
   ]
  },
  {
   "cell_type": "code",
   "execution_count": null,
   "id": "f6f081e1",
   "metadata": {},
   "outputs": [],
   "source": [
    "# Answers:\n",
    "\n",
    "# 1. Python Programming Language was developed by Guido van Rossum.\n",
    "\n",
    "# 2. Python supports multiple programming paradigms, including procedural, object-oriented, and functional programming.\n",
    "\n",
    "# 3. Yes, Python is case-sensitive when dealing with identifiers. For example, variables named \"myVar\" and \"myvar\" are considered \n",
    "#    different in Python.\n",
    "# 4. The correct extension for Python files is \".py\". For example, a Python script file would have a name like \"example.py\".\n",
    "# 5. Python code is interpreted. It is executed line by line by the Python interpreter without the need for explicit compilation \n",
    "#    before running.\n",
    "# 6. In Python, code blocks are defined using indentation. Some common blocks include function definitions, if statements,\n",
    "#    loops (like for and while), and class definitions.\n",
    "# 7. The '#' character is used to give single-line comments in Python. Anything after the '#' symbol on a line is considered a\n",
    "#    comment and is not executed by the interpreter.\n",
    "# 8. Two functions commonly used to find the Python version are `sys.version` and `platform.python_version()`.\n",
    "# 9. Python supports the creation of anonymous functions at runtime using the `lambda` construct.\n",
    "# 10. \"pip\" stands for \"Pip Installs Packages\" or \"Pip Installs Python\" (recursive acronym). It is a package management system\n",
    "#     used to install and manage software packages written in Python.\n",
    "# 11. Python has a wide range of built-in functions, including `print()`, `len()`, `input()`, `range()`, `type()`, `max()`, \n",
    "#     `min()`, `sum()`, and many more.\n",
    "# 12. The maximum possible length of an identifier (variable name, function name, etc.) in Python is not fixed,\n",
    "#     but it is recommended to keep it within a reasonable length for readability and maintainability.\n",
    "# 13. Some benefits of using Python include its simplicity and readability, a large and active community,\n",
    "#     a vast number of libraries and frameworks, cross-platform compatibility, and its suitability for various domains\n",
    "#     like web development, data analysis, machine learning, and automation.\n",
    "# 14. Memory management in Python is handled automatically by the Python runtime through a technique called \"garbage collection.\"\n",
    "#     It automatically detects and frees up memory that is no longer in use, making memory management easier for developers.\n",
    "# 15. To install Python on Windows, you can visit the official Python website (https://www.python.org) and download the installer\n",
    "#     appropriate for your Windows version. During the installation process, you will have the option to set the path variables\n",
    "#     automatically, allowing you to run Python from any command prompt.\n",
    "# 16. Yes, indentation is required in Python. It is used to define code blocks and is an essential part of Python's syntax. \n",
    "#     Incorrect indentation can lead to syntax errors in your c"
   ]
  }
 ],
 "metadata": {
  "kernelspec": {
   "display_name": "Python 3 (ipykernel)",
   "language": "python",
   "name": "python3"
  },
  "language_info": {
   "codemirror_mode": {
    "name": "ipython",
    "version": 3
   },
   "file_extension": ".py",
   "mimetype": "text/x-python",
   "name": "python",
   "nbconvert_exporter": "python",
   "pygments_lexer": "ipython3",
   "version": "3.10.9"
  }
 },
 "nbformat": 4,
 "nbformat_minor": 5
}
