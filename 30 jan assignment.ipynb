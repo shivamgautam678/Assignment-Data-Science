{
 "cells": [
  {
   "cell_type": "code",
   "execution_count": 3,
   "id": "327f0be2",
   "metadata": {},
   "outputs": [
    {
     "name": "stdout",
     "output_type": "stream",
     "text": [
      "Enter the percentage: 56\n",
      "Grade: D\n"
     ]
    }
   ],
   "source": [
    "# Ans:1 \n",
    "percentage = float(input(\"Enter the percentage: \"))\n",
    "\n",
    "if percentage > 90:\n",
    "    grade = \"A\"\n",
    "elif percentage > 80 and percentage <= 90:\n",
    "    grade = \"B\"\n",
    "elif percentage >= 60 and percentage <= 80:\n",
    "    grade = \"C\"\n",
    "else:\n",
    "    grade = \"D\"\n",
    "\n",
    "print(\"Grade:\", grade)\n"
   ]
  },
  {
   "cell_type": "code",
   "execution_count": 2,
   "id": "0d5536d4",
   "metadata": {},
   "outputs": [
    {
     "name": "stdout",
     "output_type": "stream",
     "text": [
      "Enter the cost price of the bike (in Rs): 80000\n",
      "Road tax to be paid: Rs 8000.0\n"
     ]
    }
   ],
   "source": [
    "#Ans:2\n",
    "def calculate_road_tax(cost_price):\n",
    "    if cost_price > 100000:\n",
    "        tax_percentage = 15\n",
    "    elif cost_price <= 100000 and cost_price > 50000:\n",
    "        tax_percentage = 10\n",
    "    else:\n",
    "        tax_percentage = 5\n",
    "\n",
    "    road_tax = (tax_percentage / 100) * cost_price\n",
    "    return road_tax\n",
    "\n",
    "\n",
    "# Accept the cost price of the bike from the user\n",
    "cost_price = float(input(\"Enter the cost price of the bike (in Rs): \"))\n",
    "\n",
    "# Calculate the road tax\n",
    "tax_to_be_paid = calculate_road_tax(cost_price)\n",
    "\n",
    "# Display the road tax to be paid\n",
    "print(\"Road tax to be paid: Rs\", tax_to_be_paid)\n"
   ]
  },
  {
   "cell_type": "code",
   "execution_count": 5,
   "id": "510a0d97",
   "metadata": {},
   "outputs": [
    {
     "name": "stdout",
     "output_type": "stream",
     "text": [
      "Enter the name of a city: Jaipur\n",
      "Monuments of Jaipur:\n",
      "Jal Mahal\n"
     ]
    }
   ],
   "source": [
    "# Ans:3\n",
    "# Dictionary mapping cities to monuments\n",
    "monuments = {\n",
    "    \"Delhi\": [\"Red Fort\", \"Taj Mahal\"],\n",
    "    \"Agra\": [\"Taj Mahal\"],\n",
    "    \"Jaipur\": [\"Jal Mahal\"]\n",
    "}\n",
    "\n",
    "# Accept the city from the user\n",
    "city = input(\"Enter the name of a city: \")\n",
    "\n",
    "# Check if the city is in the dictionary\n",
    "if city in monuments:\n",
    "    # Display the monuments of the city\n",
    "    print(\"Monuments of\", city + \":\")\n",
    "    for monument in monuments[city]:\n",
    "        print(monument)\n",
    "else:\n",
    "    print(\"Monuments not found for the entered city.\")\n"
   ]
  },
  {
   "cell_type": "code",
   "execution_count": 7,
   "id": "2a69dfef",
   "metadata": {},
   "outputs": [
    {
     "name": "stdout",
     "output_type": "stream",
     "text": [
      "The given number can be divided by 3 2 times before it becomes less than or equal to 10.\n"
     ]
    }
   ],
   "source": [
    "#Ans:4\n",
    "def count_divisions(number):\n",
    "    count = 0\n",
    "    while number > 10:\n",
    "        number /= 3\n",
    "        count += 1\n",
    "    return count\n",
    "\n",
    "given_number = 81\n",
    "divisions = count_divisions(given_number)\n",
    "print(f\"The given number can be divided by 3 {divisions} times before it becomes less than or equal to 10.\")\n"
   ]
  },
  {
   "cell_type": "code",
   "execution_count": 8,
   "id": "519b7aa9",
   "metadata": {},
   "outputs": [
    {
     "name": "stdout",
     "output_type": "stream",
     "text": [
      "5\n",
      "4\n",
      "3\n",
      "2\n",
      "1\n",
      "Blastoff!\n"
     ]
    }
   ],
   "source": [
    "# Ans:5 \n",
    "# The while loop in Python is used to execute a block of code repeatedly as long as a certain condition is true. \n",
    "# It is typically used when the number of iterations is unknown or when we want to repeatedly perform an action\n",
    "# until a specific condition is met\n",
    "\n",
    "def countdown(n):\n",
    "    while n > 0:\n",
    "        print(n)\n",
    "        n -= 1\n",
    "    print(\"Blastoff!\")\n",
    "\n",
    "countdown(5)\n",
    "\n",
    "# While loops are useful when we need to repeat a certain task until a condition is satisfied. \n",
    "# For example, you can use a while loop to continuously ask for user input until they provide valid\n",
    "# input or to perform a computation until a desired accuracy is achieved."
   ]
  },
  {
   "cell_type": "code",
   "execution_count": 11,
   "id": "40514042",
   "metadata": {},
   "outputs": [
    {
     "name": "stdout",
     "output_type": "stream",
     "text": [
      "* * * * * \n",
      "* * * * * \n",
      "* * * * * \n",
      "* * * * * \n",
      "* * * * * \n"
     ]
    }
   ],
   "source": [
    "# Ans:6\n",
    "# Pattern 1: Square Pattern\n",
    "n = 5\n",
    "i = 1\n",
    "while i <= n:\n",
    "    j = 1\n",
    "    while j <= n:\n",
    "        print(\"*\", end=\" \")\n",
    "        j += 1\n",
    "    print()\n",
    "    i += 1\n"
   ]
  },
  {
   "cell_type": "code",
   "execution_count": 12,
   "id": "fee65e6b",
   "metadata": {},
   "outputs": [
    {
     "name": "stdout",
     "output_type": "stream",
     "text": [
      "* \n",
      "* * \n",
      "* * * \n",
      "* * * * \n",
      "* * * * * \n"
     ]
    }
   ],
   "source": [
    "# Pattern 2: Right Triangle Pattern\n",
    "n = 5\n",
    "i = 1\n",
    "while i <= n:\n",
    "    j = 1\n",
    "    while j <= i:\n",
    "        print(\"*\", end=\" \")\n",
    "        j += 1\n",
    "    print()\n",
    "    i += 1\n"
   ]
  },
  {
   "cell_type": "code",
   "execution_count": 13,
   "id": "3932887d",
   "metadata": {},
   "outputs": [
    {
     "name": "stdout",
     "output_type": "stream",
     "text": [
      "        * \n",
      "      * * \n",
      "    * * * \n",
      "  * * * * \n",
      "* * * * * \n"
     ]
    }
   ],
   "source": [
    "# Pattern 3: Pyramid Pattern\n",
    "n = 5\n",
    "i = 1\n",
    "while i <= n:\n",
    "    space = 1\n",
    "    while space <= n - i:\n",
    "        print(\" \", end=\" \")\n",
    "        space += 1\n",
    "    j = 1\n",
    "    while j <= i:\n",
    "        print(\"*\", end=\" \")\n",
    "        j += 1\n",
    "    print()\n",
    "    i += 1\n",
    "\n"
   ]
  },
  {
   "cell_type": "code",
   "execution_count": 14,
   "id": "0674f669",
   "metadata": {},
   "outputs": [
    {
     "name": "stdout",
     "output_type": "stream",
     "text": [
      "10\n",
      "9\n",
      "8\n",
      "7\n",
      "6\n",
      "5\n",
      "4\n",
      "3\n",
      "2\n",
      "1\n"
     ]
    }
   ],
   "source": [
    "#Ans:7\n",
    "num = 10\n",
    "while num >= 1:\n",
    "    print(num)\n",
    "    num -= 1\n"
   ]
  },
  {
   "cell_type": "code",
   "execution_count": 15,
   "id": "8046e3bc",
   "metadata": {},
   "outputs": [
    {
     "name": "stdout",
     "output_type": "stream",
     "text": [
      "10\n",
      "9\n",
      "8\n",
      "7\n",
      "6\n",
      "5\n",
      "4\n",
      "3\n",
      "2\n",
      "1\n"
     ]
    }
   ],
   "source": [
    "# Ans:8\n",
    "num = 10\n",
    "while num >= 1:\n",
    "    print(num)\n",
    "    num -= 1\n"
   ]
  },
  {
   "cell_type": "code",
   "execution_count": null,
   "id": "6c2070ae",
   "metadata": {},
   "outputs": [],
   "source": []
  }
 ],
 "metadata": {
  "kernelspec": {
   "display_name": "Python 3 (ipykernel)",
   "language": "python",
   "name": "python3"
  },
  "language_info": {
   "codemirror_mode": {
    "name": "ipython",
    "version": 3
   },
   "file_extension": ".py",
   "mimetype": "text/x-python",
   "name": "python",
   "nbconvert_exporter": "python",
   "pygments_lexer": "ipython3",
   "version": "3.10.9"
  }
 },
 "nbformat": 4,
 "nbformat_minor": 5
}
