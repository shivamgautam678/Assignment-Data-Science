{
 "cells": [
  {
   "cell_type": "code",
   "execution_count": null,
   "id": "f3a90d64",
   "metadata": {},
   "outputs": [],
   "source": [
    "# Q1, Create a vehicle class with an init method having instance variables as name_of_vehicle, max_speed\n",
    "# and average_of_vehicle.\n",
    "# Ans:\n",
    "class Vehicle:\n",
    "    def __init__(self, name_of_vehicle, max_speed, average_of_vehicle):\n",
    "        self.name_of_vehicle = name_of_vehicle\n",
    "        self.max_speed = max_speed\n",
    "        self.average_of_vehicle = average_of_vehicle\n",
    "\n"
   ]
  },
  {
   "cell_type": "code",
   "execution_count": null,
   "id": "bf884822",
   "metadata": {},
   "outputs": [],
   "source": [
    "# Q2. Create a child class car from the vehicle class created in Que 1, which will inherit the vehicle class.\n",
    "# Create a method named seating_capacity which takes capacity as an argument and returns the name of\n",
    "# the vehicle and its seating capacity.\n",
    "# Ans:\n",
    "class Car(Vehicle):\n",
    "    def seating_capacity(self, capacity):\n",
    "        return f\"{self.name_of_vehicle} has a seating capacity of {capacity} people.\"\n"
   ]
  },
  {
   "cell_type": "code",
   "execution_count": null,
   "id": "3f960246",
   "metadata": {},
   "outputs": [],
   "source": [
    "# Q3. What is multiple inheritance? Write a python code to demonstrate multiple inheritance.\n",
    "# Ans: Multiple inheritance is a feature in object-oriented programming where a class can inherit attributes and methods \n",
    "#      from multiple parent classes.This allows a child class to inherit behaviors from multiple sources.\n",
    "\n",
    "class Parent1:\n",
    "    def method1(self):\n",
    "        print(\"This is method 1 from Parent1.\")\n",
    "\n",
    "class Parent2:\n",
    "    def method2(self):\n",
    "        print(\"This is method 2 from Parent2.\")\n",
    "\n",
    "class Child(Parent1, Parent2):\n",
    "    def method3(self):\n",
    "        print(\"This is method 3 from Child.\")\n",
    "\n",
    "# Create an instance of the Child class\n",
    "child = Child()\n",
    "\n",
    "# Access methods from both parent classes\n",
    "child.method1()  # Output: This is method 1 from Parent1.\n",
    "child.method2()  # Output: This is method 2 from Parent2.\n",
    "child.method3()  # Output: This is method 3 from Child.\n"
   ]
  },
  {
   "cell_type": "code",
   "execution_count": null,
   "id": "78d5428f",
   "metadata": {},
   "outputs": [],
   "source": [
    "# Q4. What are getter and setter in python? Create a class and create a getter and a setter method in this\n",
    "# class.\n",
    "# Ans:Getter and setter methods are used to access and modify the values of instance variables in a class.\n",
    "#     They provide controlled access to the attributes of an object.\n",
    "class MyClass:\n",
    "    def __init__(self):\n",
    "        self._my_variable = None\n",
    "\n",
    "    def get_my_variable(self):\n",
    "        return self._my_variable\n",
    "\n",
    "    def set_my_variable(self, value):\n",
    "        self._my_variable = value\n",
    "\n",
    "# Create an instance of MyClass\n",
    "obj = MyClass()\n",
    "\n",
    "# Set the value using the setter method\n",
    "obj.set_my_variable(42)\n",
    "\n",
    "# Get the value using the getter method\n",
    "print(obj.get_my_variable())  # Output: 42\n"
   ]
  },
  {
   "cell_type": "code",
   "execution_count": null,
   "id": "5afeb644",
   "metadata": {},
   "outputs": [],
   "source": [
    "# Q5.What is method overriding in python? Write a python code to demonstrate method overriding.\n",
    "\n",
    "# Ans:Method overriding is a feature in object-oriented programming where a subclass provides\n",
    "#     its own implementation of a method that is already defined in its superclass.\n",
    "#     The method in the subclass overrides the method with the same name in the superclass.\n",
    "class Parent:\n",
    "    def greet(self):\n",
    "        print(\"Hello from the Parent class.\")\n",
    "\n",
    "class Child(Parent):\n",
    "    def greet(self):\n",
    "        print(\"Hello from the Child class.\")\n",
    "\n",
    "# Create an instance of the Child class\n",
    "child = Child()\n",
    "\n",
    "# Call the overridden method\n",
    "child.greet()  # Output: Hello from the Child class.\n",
    "\n",
    "\n",
    "\n"
   ]
  }
 ],
 "metadata": {
  "kernelspec": {
   "display_name": "Python 3 (ipykernel)",
   "language": "python",
   "name": "python3"
  },
  "language_info": {
   "codemirror_mode": {
    "name": "ipython",
    "version": 3
   },
   "file_extension": ".py",
   "mimetype": "text/x-python",
   "name": "python",
   "nbconvert_exporter": "python",
   "pygments_lexer": "ipython3",
   "version": "3.10.9"
  }
 },
 "nbformat": 4,
 "nbformat_minor": 5
}
